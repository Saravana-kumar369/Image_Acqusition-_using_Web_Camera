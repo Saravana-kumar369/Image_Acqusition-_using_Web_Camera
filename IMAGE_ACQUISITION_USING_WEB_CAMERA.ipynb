{
  "nbformat": 4,
  "nbformat_minor": 0,
  "metadata": {
    "colab": {
      "provenance": []
    },
    "kernelspec": {
      "name": "python3",
      "display_name": "Python 3"
    },
    "language_info": {
      "name": "python"
    }
  },
  "cells": [
    {
      "cell_type": "code",
      "execution_count": null,
      "metadata": {
        "id": "hYUzMUQkTAAr"
      },
      "outputs": [],
      "source": [
        "## i) Write the frame as JPG file\n",
        "import cv2\n",
        "videoCaptureObject = cv2.VideoCapture(0)\n",
        "ret, frame = videoCaptureObject.read()\n",
        "if ret:\n",
        "    cv2.imwrite(\"trial.jpeg\", frame)\n",
        "videoCaptureObject.release()\n",
        "cv2.destroyAllWindows()"
      ]
    },
    {
      "cell_type": "code",
      "source": [
        "## ii) Display the video\n",
        "import cv2\n",
        "videoCaptureObject = cv2.VideoCapture(0)\n",
        "while True:\n",
        "    ret, frame = videoCaptureObject.read()\n",
        "    if not ret:\n",
        "        break\n",
        "    cv2.imshow(\"Video\", frame)\n",
        "    if cv2.waitKey(1) & 0xFF == ord('q'):\n",
        "        break\n",
        "videoCaptureObject.release()\n",
        "cv2.destroyAllWindows()"
      ],
      "metadata": {
        "id": "wj6mW4yyTKFm"
      },
      "execution_count": null,
      "outputs": []
    },
    {
      "cell_type": "code",
      "source": [
        "## iii) Display the video by resizing the window\n",
        "import cv2\n",
        "import numpy as np\n",
        "cap = cv2.VideoCapture(0)\n",
        "while True:\n",
        "    ret, frame = cap.read()\n",
        "    if not ret:\n",
        "        break\n",
        "    smaller_frame = cv2.resize(frame, (0,0), fx=0.5, fy=0.5)\n",
        "    cv2.imshow('Resized Video', smaller_frame)\n",
        "    if cv2.waitKey(1) & 0xFF == ord('q'):\n",
        "        break\n",
        "cap.release()\n",
        "cv2.destroyAllWindows()"
      ],
      "metadata": {
        "id": "Y12_al9uTMGw"
      },
      "execution_count": null,
      "outputs": []
    },
    {
      "cell_type": "code",
      "source": [
        "## iv) Rotate and display the video\n",
        "import cv2\n",
        "cap = cv2.VideoCapture(0)\n",
        "while True:\n",
        "    ret, frame = cap.read()\n",
        "    if not ret:\n",
        "        break\n",
        "    rotated_frame = cv2.rotate(frame, cv2.ROTATE_90_CLOCKWISE)\n",
        "    cv2.imshow('Rotated Video', rotated_frame)\n",
        "    if cv2.waitKey(1) & 0xFF == ord('q'):\n",
        "        break\n",
        "cap.release()\n",
        "cv2.destroyAllWindows()"
      ],
      "metadata": {
        "id": "Cb1O23bdTOVM"
      },
      "execution_count": null,
      "outputs": []
    }
  ]
}
