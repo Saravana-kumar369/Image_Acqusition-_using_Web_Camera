{
  "nbformat": 4,
  "nbformat_minor": 0,
  "metadata": {
    "colab": {
      "provenance": []
    },
    "kernelspec": {
      "name": "python3",
      "display_name": "Python 3"
    },
    "language_info": {
      "name": "python"
    }
  },
  "cells": [
    {
      "cell_type": "code",
      "execution_count": null,
      "metadata": {
        "id": "hYUzMUQkTAAr"
      },
      "outputs": [],
      "source": [
        "## i) Write the frame as JPG file\n",
        "import cv2\n",
        "videoCaptureObject = cv2.VideoCapture(0)\n",
        "while (True):\n",
        "    ret,frame = videoCaptureObject.read()\n",
        "    cv2.imwrite(\"trial.jpeg\",frame)\n",
        "    result = False\n",
        "videoCaptureObject.release()\n",
"cv2.destroyAllWindows()"
      ]
    },
    {
      "cell_type": "code",
      "source": [
        "\n",
        "## ii) Display the video\n",
        "import cv2\n",
        "videoCaptureObject = cv2.VideoCapture(0)\n",
        "while True:
    ret, frame = videoCaptureObject.read()
    if not ret:
        break
    cv2.imshow("Video", frame)
    if cv2.waitKey(1) & 0xFF == ord('q'):
        break\n",
        "videoCaptureObject.release()\n",
        "cv2.destroyAllWindows()"
      ],
      "metadata": {
        "id": "wj6mW4yyTKFm"
      },
      "execution_count": null,
      "outputs": []
    },
    {
      "cell_type": "code",
      "source": [
        "## iii) Display the video by resizing the window\n",
        "import cv2\n",
        "import numpy as np\n",
        "cap = cv2.VideoCapture(0)\n",
        "while True:\n",
        "   ret, frame = cap.read()
    if not ret:
        break\n",
        "    smaller_frame = cv2.resize(frame, (0,0), fx = 0.5, fy=0.5)\n",
        "    image[:height//2, :width//2] = smaller_frame\n",
        "    #Type ur code here\n",
        "    cv2.imshow('myimage', image)\n",
        "    if cv2.waitKey(1) == ord('q'):\n",
        "        break\n",
        "cap.release()
cv2.destroyAllWindows()"
      ],
      "metadata": {
        "id": "Y12_al9uTMGw"
      },
      "execution_count": null,
      "outputs": []
    },
    {
      "cell_type": "code",
      "source": [
        "## iv) Rotate and display the video\n",
        "import cv2\n",
        "import numpy as np\n",
        "cap = cv2.VideoCapture(0)\n",
        "while True:\n",
        "    ret, frame = cap.read()\n",
        "    width = int(cap.get(3))\n",
        "    height = int(cap.get(4))\n",
        "  rotated_frame = cv2.rotate(frame, cv2.ROTATE_90_CLOCKWISE)
    cv2.imshow('Rotated Video', rotated_frame)\n",
        "    image [height//2:, width//2:] = smaller_frame\n",
        "    cv2.imshow('myimage', image)\n",
        "    if cv2.waitKey(1) == ord('q'):\n",
        "        break\n",
        "cap.release()\n",
        "cv2.destroyAllWindows()"
      ],
      "metadata": {
        "id": "Cb1O23bdTOVM"
      },
      "execution_count": null,
      "outputs": []
    }
  ]
}
